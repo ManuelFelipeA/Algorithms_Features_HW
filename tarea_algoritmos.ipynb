{
 "cells": [
  {
   "cell_type": "code",
   "execution_count": 1,
   "metadata": {},
   "outputs": [],
   "source": [
    "import numpy as np"
   ]
  },
  {
   "attachments": {},
   "cell_type": "markdown",
   "metadata": {},
   "source": [
    "#### write the psceudocode to insertion sort and calculate the complexity\n",
    "\n",
    "The complexity is determined by the for:"
   ]
  },
  {
   "cell_type": "code",
   "execution_count": 17,
   "metadata": {},
   "outputs": [],
   "source": [
    "def insertion_sort(arr):\n",
    "    for i in range(1, len(arr)):\n",
    "        key = arr[i]\n",
    "        j = i - 1\n",
    "        if arr[j] > key:\n",
    "            while j >= 0 and arr[j] > key:\n",
    "                arr[j + 1] = arr[j]\n",
    "                j -= 1\n",
    "            arr[j + 1] = key\n",
    "    return arr\n"
   ]
  },
  {
   "attachments": {},
   "cell_type": "markdown",
   "metadata": {},
   "source": [
    "Then the complexity is determined by O(n^2)."
   ]
  },
  {
   "cell_type": "code",
   "execution_count": 19,
   "metadata": {},
   "outputs": [
    {
     "data": {
      "text/plain": [
       "array([13, 11,  4,  5, 17,  9,  8, 18, 15,  7, 15, 18, 13,  7, 16, 13,  1,\n",
       "        6, 14, 11])"
      ]
     },
     "execution_count": 19,
     "metadata": {},
     "output_type": "execute_result"
    }
   ],
   "source": [
    "example = np.random.randint(0,20,20)\n",
    "example"
   ]
  },
  {
   "cell_type": "code",
   "execution_count": 20,
   "metadata": {},
   "outputs": [
    {
     "name": "stdout",
     "output_type": "stream",
     "text": [
      "[ 1  4  5  6  7  7  8  9 11 11 13 13 13 14 15 15 16 17 18 18]\n"
     ]
    }
   ],
   "source": [
    "\n",
    "print(insertion_sort(example))"
   ]
  },
  {
   "attachments": {},
   "cell_type": "markdown",
   "metadata": {},
   "source": [
    "#### Fibonacci numbers from 0 to n\n"
   ]
  },
  {
   "cell_type": "code",
   "execution_count": 26,
   "metadata": {},
   "outputs": [],
   "source": [
    "def fibonacci(n:int):\n",
    "    if n == 0:\n",
    "        return [0]\n",
    "    elif n == 1:\n",
    "        return [0, 1] ##O(1)\n",
    "    else:\n",
    "        fib_list = [0, 1]\n",
    "        for i in range(2, n+1): ### O(n)\n",
    "            fib_list.append(fib_list[i-1] + fib_list[i-2])  ### O(1)\n",
    "        return fib_list\n"
   ]
  },
  {
   "attachments": {},
   "cell_type": "markdown",
   "metadata": {},
   "source": [
    "Testing with a fixed number:"
   ]
  },
  {
   "cell_type": "code",
   "execution_count": 24,
   "metadata": {},
   "outputs": [
    {
     "name": "stdout",
     "output_type": "stream",
     "text": [
      "[0, 1, 1, 2, 3, 5, 8, 13, 21, 34, 55, 89, 144, 233, 377, 610, 987]\n"
     ]
    }
   ],
   "source": [
    "a= 16\n",
    "print(fibonacci(a))"
   ]
  }
 ],
 "metadata": {
  "kernelspec": {
   "display_name": "work1",
   "language": "python",
   "name": "python3"
  },
  "language_info": {
   "codemirror_mode": {
    "name": "ipython",
    "version": 3
   },
   "file_extension": ".py",
   "mimetype": "text/x-python",
   "name": "python",
   "nbconvert_exporter": "python",
   "pygments_lexer": "ipython3",
   "version": "3.10.9"
  },
  "orig_nbformat": 4,
  "vscode": {
   "interpreter": {
    "hash": "3e5dbd6ffe9f220a41236e4cf34615c18da623d327e602ccfccdf8acffb8b4e9"
   }
  }
 },
 "nbformat": 4,
 "nbformat_minor": 2
}
