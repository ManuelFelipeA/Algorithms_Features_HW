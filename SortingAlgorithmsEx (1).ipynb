{
 "cells": [
  {
   "cell_type": "markdown",
   "id": "2808fdf9",
   "metadata": {},
   "source": [
    "# Sorting"
   ]
  },
  {
   "cell_type": "code",
   "execution_count": 1,
   "id": "b46b410f",
   "metadata": {},
   "outputs": [],
   "source": [
    "import time\n",
    "import numpy as np\n",
    "np.random.seed(0)"
   ]
  },
  {
   "cell_type": "code",
   "execution_count": 16,
   "id": "881e765c",
   "metadata": {},
   "outputs": [],
   "source": [
    "data = np.random.randint(1,10000,17000)"
   ]
  },
  {
   "cell_type": "markdown",
   "id": "7dbcaac0",
   "metadata": {},
   "source": [
    "### Insertion Sort"
   ]
  },
  {
   "cell_type": "code",
   "execution_count": 8,
   "id": "b04ff63f",
   "metadata": {},
   "outputs": [],
   "source": [
    "def insertion_sort(arr):\n",
    "    for i in range(1, len(arr)):\n",
    "        key = arr[i]\n",
    "        j = i - 1\n",
    "        if arr[j] > key:\n",
    "            while j >= 0 and arr[j] > key:\n",
    "                arr[j + 1] = arr[j]\n",
    "                j -= 1\n",
    "            arr[j + 1] = key\n",
    "    return arr"
   ]
  },
  {
   "cell_type": "code",
   "execution_count": 9,
   "id": "938bce08",
   "metadata": {},
   "outputs": [],
   "source": [
    "arr= insertion_sort(data)"
   ]
  },
  {
   "cell_type": "code",
   "execution_count": 10,
   "id": "4a6799ab",
   "metadata": {},
   "outputs": [
    {
     "data": {
      "text/plain": [
       "array([   1,    1,    1, ..., 9999, 9999, 9999])"
      ]
     },
     "execution_count": 10,
     "metadata": {},
     "output_type": "execute_result"
    }
   ],
   "source": [
    "arr"
   ]
  },
  {
   "cell_type": "code",
   "execution_count": 11,
   "id": "8e49d6d2",
   "metadata": {},
   "outputs": [
    {
     "data": {
      "text/plain": [
       "array([9999, 9999, 9999, ...,    1,    1,    1])"
      ]
     },
     "execution_count": 11,
     "metadata": {},
     "output_type": "execute_result"
    }
   ],
   "source": [
    "np.flip(arr)"
   ]
  },
  {
   "cell_type": "markdown",
   "id": "660c72b1",
   "metadata": {},
   "source": [
    "### Merge Sort"
   ]
  },
  {
   "cell_type": "code",
   "execution_count": 24,
   "id": "49e26c66",
   "metadata": {},
   "outputs": [],
   "source": [
    "def merge_sort(arr):\n",
    "    if len(arr) > 1:\n",
    "        mid = len(arr)//2\n",
    "        left = arr[:mid]\n",
    "        right = arr[mid:]\n",
    "\n",
    "        # Recursively sort both halves\n",
    "        merge_sort(left)\n",
    "        merge_sort(right)\n",
    "\n",
    "        # Merge the sorted halves\n",
    "        i = j = k = 0\n",
    "        while i < len(left) and j < len(right):\n",
    "            if left[i] < right[j]:\n",
    "                arr[k] = left[i]\n",
    "                i += 1\n",
    "            else:\n",
    "                arr[k] = right[j]\n",
    "                j += 1\n",
    "            k += 1\n",
    "\n",
    "        # Copy over any remaining elements from the left or right subarray\n",
    "        while i < len(left):\n",
    "            arr[k] = left[i]\n",
    "            i += 1\n",
    "            k += 1\n",
    "\n",
    "        while j < len(right):\n",
    "            arr[k] = right[j]\n",
    "            j += 1\n",
    "            k += 1\n",
    "\n"
   ]
  },
  {
   "cell_type": "code",
   "execution_count": 33,
   "id": "bbe7cf8e",
   "metadata": {},
   "outputs": [
    {
     "name": "stdout",
     "output_type": "stream",
     "text": [
      "[   1    1    1 ... 7663 7663 7703]\n"
     ]
    }
   ],
   "source": [
    "merge_sort(data)\n",
    "print(data)"
   ]
  },
  {
   "cell_type": "code",
   "execution_count": 41,
   "id": "aed116e6",
   "metadata": {},
   "outputs": [],
   "source": [
    "#This method is just to calculate the time, if you don't need it, don't worry\n",
    "def merge_algorithm(arr):\n",
    "    start = time.time()\n",
    "    merge_sort(arr)\n",
    "    end = time.time()\n",
    "    \n",
    "    return print(\"The time of execution of above program is :\", (end-start) * 10**3, \"ms\", \"for a size of \", len(arr))"
   ]
  },
  {
   "cell_type": "code",
   "execution_count": 42,
   "id": "b2a7dbef",
   "metadata": {},
   "outputs": [],
   "source": [
    "data = np.random.randint(1,10000,17000)"
   ]
  },
  {
   "cell_type": "code",
   "execution_count": 43,
   "id": "65df9aa5",
   "metadata": {},
   "outputs": [
    {
     "name": "stdout",
     "output_type": "stream",
     "text": [
      "The time of execution of above program is : 228.88946533203125 ms for a size of  17000\n"
     ]
    }
   ],
   "source": [
    "merge_algorithm(data)"
   ]
  },
  {
   "attachments": {},
   "cell_type": "markdown",
   "id": "a620d8fd",
   "metadata": {},
   "source": [
    "Overall, the time complexity of Merge sort is O(n log n), where n is the number of elements in the array being sorted. This is because the merge process takes O(n) time, and we need to perform this process log n times, once for each level of the divide-and-conquer tree."
   ]
  },
  {
   "cell_type": "markdown",
   "id": "9d4798e7",
   "metadata": {},
   "source": [
    "### Algorithm of your choice\n",
    "\n",
    "Know implement another algorithm, anyone works. Use the same size of data."
   ]
  },
  {
   "attachments": {},
   "cell_type": "markdown",
   "id": "f81b6985",
   "metadata": {},
   "source": [
    "Un subprograma que reciba un número real positivo $(c)$ y un número real positivo cercano a cero $ɛ$, y que devuelva una aproximación del logaritmo natural de $(c)$ a partir del valor dado para $\\varepsilon$. El subprograma solicitado debe tener en cuenta que:\n",
    "\n",
    "\\begin{equation}\n",
    "2∑_{k=0}^n\\frac{1}{2k+1}(\\frac{c-1}{c+1})^{2k+1}\\xrightarrow{n\\to∞} ln(c)\n",
    "\\end{equation}\n",
    "\n",
    "Desrrolllando la serie nos queda que, \n",
    "\\begin{equation}\n",
    "ln(c) ≈ 2*((\\frac{c-1}{c+1})+\\frac{1}{3}(\\frac{c-1}{c+1})^3 + \\frac{1}{5}(\\frac{c-1}{c+1})^5  + ⋯\n",
    "\\end{equation}\n",
    "\n",
    "Ademas, si $0<c<1$, entonces, \n",
    "\n",
    "\\begin{equation}\n",
    "ln(c) = -ln(\\frac{1}{c})\n",
    "\\end{equation}\n",
    "\n",
    "y, si $c>1$, \n",
    "\n",
    "\\begin{equation}\n",
    "ln(c) = ln((d)(2^k)) = ln(d) + kln(2)\n",
    "\\end{equation}"
   ]
  },
  {
   "cell_type": "code",
   "execution_count": 23,
   "id": "1cd4c3ba",
   "metadata": {},
   "outputs": [],
   "source": [
    "def logn(c, eps = 1e-55):   ### The function logn calculates the natural logarithm of a number c.\n",
    "  ln_2 = 0.6931471805599453   ## The ln_2 variable is assigned the value of the natural logarithm of 2.\n",
    "  if c == 2:    ## If c is equal to 2, the result is assigned the value of ln_2.\n",
    "    resul = ln_2   \n",
    "  elif c < 1:  ## If c is less than 1, the result is assigned the value of the negation of logn applied to the reciprocal of c.\n",
    "    resul = - logn(1/c)\n",
    "  elif c > 2:  ## If c is greater than 2, the variable k is initialized to 0 and is incremented by 1 each time c is divided by 2 and is greater than 2. \n",
    "    k = 0       \n",
    "    while c > 2:  \n",
    "      c /= 2\n",
    "      k += 1\n",
    "    resul = logn(c) + k*ln_2  ##The result is then assigned the value of logn of c plus k multiplied by ln_2.\n",
    "  else:\n",
    "    frac = (c-1)/(c+1)   ### If c is between 1 and 2 (exclusive), the variable frac is assigned the value of (c-1)/(c+1). \n",
    "    den = 1\n",
    "    num = frac\n",
    "    resul = frac/den  ## The variable den is initialized to 1 and num to frac. The result is initialized to frac/den. The variable suma is also initialized to frac.\n",
    "    suma = frac\n",
    "    while suma > eps:\n",
    "      num *= frac * frac  ## In a while loop, the value of num is multiplied by frac * frac, the value of den is incremented by 2, suma is updated to the value of num/den, and the result is incremented by suma. The loop continues until suma is less than eps.\n",
    "      den += 2\n",
    "      suma = num/den\n",
    "      resul += suma\n",
    "    resul *= 2\n",
    "  \n",
    "  return resul "
   ]
  },
  {
   "cell_type": "code",
   "execution_count": 24,
   "id": "8642b91f",
   "metadata": {},
   "outputs": [
    {
     "name": "stdout",
     "output_type": "stream",
     "text": [
      "2.772588722239781\n"
     ]
    }
   ],
   "source": [
    "print(logn(16))"
   ]
  },
  {
   "cell_type": "code",
   "execution_count": 21,
   "id": "f2ecb571",
   "metadata": {},
   "outputs": [
    {
     "data": {
      "text/plain": [
       "2.772588722239781"
      ]
     },
     "execution_count": 21,
     "metadata": {},
     "output_type": "execute_result"
    }
   ],
   "source": [
    "np.log(16)"
   ]
  },
  {
   "cell_type": "markdown",
   "id": "7a20750b",
   "metadata": {},
   "source": [
    "### Conclusions\n",
    "\n",
    "So, the algorithm matters! Even when the result is the same, the time it takes is important. We are in the era of Big Data, if we are not careful, some processing might take centuries!"
   ]
  }
 ],
 "metadata": {
  "kernelspec": {
   "display_name": "work1",
   "language": "python",
   "name": "python3"
  },
  "language_info": {
   "codemirror_mode": {
    "name": "ipython",
    "version": 3
   },
   "file_extension": ".py",
   "mimetype": "text/x-python",
   "name": "python",
   "nbconvert_exporter": "python",
   "pygments_lexer": "ipython3",
   "version": "3.10.9"
  },
  "vscode": {
   "interpreter": {
    "hash": "3e5dbd6ffe9f220a41236e4cf34615c18da623d327e602ccfccdf8acffb8b4e9"
   }
  }
 },
 "nbformat": 4,
 "nbformat_minor": 5
}
